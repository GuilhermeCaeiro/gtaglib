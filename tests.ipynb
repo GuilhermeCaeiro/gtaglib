{
 "cells": [
  {
   "cell_type": "code",
   "execution_count": 1,
   "id": "da243486-a062-438e-b066-9c8b12cfbe4a",
   "metadata": {},
   "outputs": [],
   "source": [
    "import pandas as pd"
   ]
  },
  {
   "cell_type": "code",
   "execution_count": 2,
   "id": "38cfb6a7-11c4-4d20-bc76-909044b3a9ba",
   "metadata": {},
   "outputs": [
    {
     "name": "stdout",
     "output_type": "stream",
     "text": [
      " \u001b[0m\u001b[01;32mLICENSE\u001b[0m*          \u001b[01;32mgenerator.py\u001b[0m*   \u001b[34;42mwota\u001b[0m/   \u001b[34;42m新しいフォルダー\u001b[0m/\n",
      " \u001b[01;32mREADME.md\u001b[0m*        \u001b[34;42moutputs\u001b[0m/        \u001b[34;42mwta\u001b[0m/   \u001b[34;42m'新しいフォルダー (2)'\u001b[0m/\n",
      " \u001b[01;32mUntitled.ipynb\u001b[0m*   \u001b[01;32mpendencias\u001b[0m*     \u001b[34;42mwta2\u001b[0m/  \u001b[34;42m'新しいフォルダー (3)'\u001b[0m/\n",
      " \u001b[34;42mdataset\u001b[0m/          \u001b[01;32mteste.py\u001b[0m*       \u001b[34;42mwta3\u001b[0m/  \u001b[34;42m'新しいフォルダー (4)'\u001b[0m/\n"
     ]
    }
   ],
   "source": [
    "ls"
   ]
  },
  {
   "cell_type": "code",
   "execution_count": 4,
   "id": "b416f9df-e1be-43fe-8c96-346f7eb82101",
   "metadata": {},
   "outputs": [],
   "source": [
    "#bookmarks_data = open(\"dataset/bookmarksteste.dat\", \"r\", encoding=\"ISO-8859-1\").read()"
   ]
  },
  {
   "cell_type": "code",
   "execution_count": 5,
   "id": "8821dba0-d0ed-43f2-8e74-afd20c424f62",
   "metadata": {},
   "outputs": [
    {
     "data": {
      "text/plain": [
       "'id\\tmd5\\ttitle\\turl\\tmd5Principal\\turlPrincipal\\n1\\tab4954b633ddaf5b5bba6e9b71aa6b70\\tIFLA - The official we'"
      ]
     },
     "execution_count": 5,
     "metadata": {},
     "output_type": "execute_result"
    }
   ],
   "source": [
    "#bookmarks_data[:100]"
   ]
  },
  {
   "cell_type": "code",
   "execution_count": 11,
   "id": "01a348d4-9c7c-4bde-9c89-0d320504a8db",
   "metadata": {},
   "outputs": [],
   "source": [
    "bookmarks = pd.read_csv(\"dataset/bookmarks.dat\", sep='\\t', encoding=\"ISO-8859-1\")"
   ]
  },
  {
   "cell_type": "code",
   "execution_count": 12,
   "id": "b786497e-f6d0-4732-bff5-117341c59647",
   "metadata": {},
   "outputs": [
    {
     "data": {
      "text/html": [
       "<div>\n",
       "<style scoped>\n",
       "    .dataframe tbody tr th:only-of-type {\n",
       "        vertical-align: middle;\n",
       "    }\n",
       "\n",
       "    .dataframe tbody tr th {\n",
       "        vertical-align: top;\n",
       "    }\n",
       "\n",
       "    .dataframe thead th {\n",
       "        text-align: right;\n",
       "    }\n",
       "</style>\n",
       "<table border=\"1\" class=\"dataframe\">\n",
       "  <thead>\n",
       "    <tr style=\"text-align: right;\">\n",
       "      <th></th>\n",
       "      <th>id</th>\n",
       "      <th>md5</th>\n",
       "      <th>title</th>\n",
       "      <th>url</th>\n",
       "      <th>md5Principal</th>\n",
       "      <th>urlPrincipal</th>\n",
       "    </tr>\n",
       "  </thead>\n",
       "  <tbody>\n",
       "    <tr>\n",
       "      <th>0</th>\n",
       "      <td>1</td>\n",
       "      <td>ab4954b633ddaf5b5bba6e9b71aa6b70</td>\n",
       "      <td>IFLA - The official website of the Internation...</td>\n",
       "      <td>http://www.ifla.org/</td>\n",
       "      <td>7f431306c428457bc4e12b15634484f</td>\n",
       "      <td>www.ifla.org</td>\n",
       "    </tr>\n",
       "    <tr>\n",
       "      <th>1</th>\n",
       "      <td>2</td>\n",
       "      <td>2221e9cd106d269dd34682666f576fa3</td>\n",
       "      <td>gcdp-e.pdf (application/pdf Object)</td>\n",
       "      <td>http://archive.ifla.org/VII/s14/nd1/gcdp-e.pdf</td>\n",
       "      <td>1ef8cfcfe968101fa9b4e301847503d4</td>\n",
       "      <td>archive.ifla.org</td>\n",
       "    </tr>\n",
       "    <tr>\n",
       "      <th>2</th>\n",
       "      <td>7</td>\n",
       "      <td>c97c571dadaddbbb493126a0d4d01ba3</td>\n",
       "      <td>EdSelect</td>\n",
       "      <td>http://www.edselect.com/</td>\n",
       "      <td>792fd7eb20143386d0c4eb193c6124d</td>\n",
       "      <td>www.edselect.com</td>\n",
       "    </tr>\n",
       "    <tr>\n",
       "      <th>3</th>\n",
       "      <td>8</td>\n",
       "      <td>25bfe8dca0ef263ec9c341b9f16c38b5</td>\n",
       "      <td>Cool Canada (Collections Canada)</td>\n",
       "      <td>http://www.collectionscanada.gc.ca/cool/index-...</td>\n",
       "      <td>6fce4f6391516f0732531d9cfacda5b7</td>\n",
       "      <td>www.collectionscanada.gc.ca</td>\n",
       "    </tr>\n",
       "    <tr>\n",
       "      <th>4</th>\n",
       "      <td>9</td>\n",
       "      <td>c97284629e17b8e2861afaacd59918bc</td>\n",
       "      <td>Kidsreads.com</td>\n",
       "      <td>http://www.kidsreads.com/</td>\n",
       "      <td>5854ce8404857a45373eea01a3d98000</td>\n",
       "      <td>www.kidsreads.com</td>\n",
       "    </tr>\n",
       "  </tbody>\n",
       "</table>\n",
       "</div>"
      ],
      "text/plain": [
       "   id                               md5  \\\n",
       "0   1  ab4954b633ddaf5b5bba6e9b71aa6b70   \n",
       "1   2  2221e9cd106d269dd34682666f576fa3   \n",
       "2   7  c97c571dadaddbbb493126a0d4d01ba3   \n",
       "3   8  25bfe8dca0ef263ec9c341b9f16c38b5   \n",
       "4   9  c97284629e17b8e2861afaacd59918bc   \n",
       "\n",
       "                                               title  \\\n",
       "0  IFLA - The official website of the Internation...   \n",
       "1                gcdp-e.pdf (application/pdf Object)   \n",
       "2                                           EdSelect   \n",
       "3                   Cool Canada (Collections Canada)   \n",
       "4                                      Kidsreads.com   \n",
       "\n",
       "                                                 url  \\\n",
       "0                               http://www.ifla.org/   \n",
       "1     http://archive.ifla.org/VII/s14/nd1/gcdp-e.pdf   \n",
       "2                           http://www.edselect.com/   \n",
       "3  http://www.collectionscanada.gc.ca/cool/index-...   \n",
       "4                          http://www.kidsreads.com/   \n",
       "\n",
       "                       md5Principal                 urlPrincipal  \n",
       "0   7f431306c428457bc4e12b15634484f                 www.ifla.org  \n",
       "1  1ef8cfcfe968101fa9b4e301847503d4             archive.ifla.org  \n",
       "2   792fd7eb20143386d0c4eb193c6124d             www.edselect.com  \n",
       "3  6fce4f6391516f0732531d9cfacda5b7  www.collectionscanada.gc.ca  \n",
       "4  5854ce8404857a45373eea01a3d98000            www.kidsreads.com  "
      ]
     },
     "execution_count": 12,
     "metadata": {},
     "output_type": "execute_result"
    }
   ],
   "source": [
    "bookmarks.head()"
   ]
  },
  {
   "cell_type": "code",
   "execution_count": 13,
   "id": "03715ac8-4ddb-4258-8e9c-c9540dc94243",
   "metadata": {},
   "outputs": [
    {
     "data": {
      "text/plain": [
       "id                                                      14\n",
       "md5                       67e4e670037229c5f36d9450001d3e97\n",
       "title           CountryReports.org â Country Information\n",
       "url                             http://countryreports.org/\n",
       "md5Principal              b2afa8146708c6c9957c7e4db29a7814\n",
       "urlPrincipal                            countryreports.org\n",
       "Name: 7, dtype: object"
      ]
     },
     "execution_count": 13,
     "metadata": {},
     "output_type": "execute_result"
    }
   ],
   "source": [
    "bookmarks.iloc[7]"
   ]
  },
  {
   "cell_type": "code",
   "execution_count": 14,
   "id": "ad33d87a-0851-4454-8460-05d084e0aeaf",
   "metadata": {},
   "outputs": [],
   "source": [
    "bookmark_tags = pd.read_csv(\"dataset/bookmark_tags.dat\", sep='\\t', encoding=\"ISO-8859-1\")"
   ]
  },
  {
   "cell_type": "code",
   "execution_count": 16,
   "id": "76202c76-b5fc-487d-8fa7-a2f48b7456a3",
   "metadata": {},
   "outputs": [
    {
     "data": {
      "text/html": [
       "<div>\n",
       "<style scoped>\n",
       "    .dataframe tbody tr th:only-of-type {\n",
       "        vertical-align: middle;\n",
       "    }\n",
       "\n",
       "    .dataframe tbody tr th {\n",
       "        vertical-align: top;\n",
       "    }\n",
       "\n",
       "    .dataframe thead th {\n",
       "        text-align: right;\n",
       "    }\n",
       "</style>\n",
       "<table border=\"1\" class=\"dataframe\">\n",
       "  <thead>\n",
       "    <tr style=\"text-align: right;\">\n",
       "      <th></th>\n",
       "      <th>bookmarkID</th>\n",
       "      <th>tagID</th>\n",
       "      <th>tagWeight</th>\n",
       "    </tr>\n",
       "  </thead>\n",
       "  <tbody>\n",
       "    <tr>\n",
       "      <th>0</th>\n",
       "      <td>1</td>\n",
       "      <td>2</td>\n",
       "      <td>276</td>\n",
       "    </tr>\n",
       "    <tr>\n",
       "      <th>1</th>\n",
       "      <td>1</td>\n",
       "      <td>206</td>\n",
       "      <td>48</td>\n",
       "    </tr>\n",
       "    <tr>\n",
       "      <th>2</th>\n",
       "      <td>1</td>\n",
       "      <td>208</td>\n",
       "      <td>165</td>\n",
       "    </tr>\n",
       "    <tr>\n",
       "      <th>3</th>\n",
       "      <td>1</td>\n",
       "      <td>272</td>\n",
       "      <td>55</td>\n",
       "    </tr>\n",
       "    <tr>\n",
       "      <th>4</th>\n",
       "      <td>1</td>\n",
       "      <td>459</td>\n",
       "      <td>67</td>\n",
       "    </tr>\n",
       "  </tbody>\n",
       "</table>\n",
       "</div>"
      ],
      "text/plain": [
       "   bookmarkID  tagID  tagWeight\n",
       "0           1      2        276\n",
       "1           1    206         48\n",
       "2           1    208        165\n",
       "3           1    272         55\n",
       "4           1    459         67"
      ]
     },
     "execution_count": 16,
     "metadata": {},
     "output_type": "execute_result"
    }
   ],
   "source": [
    "bookmark_tags.head()"
   ]
  },
  {
   "cell_type": "code",
   "execution_count": 17,
   "id": "df2613c2-deb1-403a-a2e0-303ab8b7c4f1",
   "metadata": {},
   "outputs": [
    {
     "data": {
      "text/html": [
       "<div>\n",
       "<style scoped>\n",
       "    .dataframe tbody tr th:only-of-type {\n",
       "        vertical-align: middle;\n",
       "    }\n",
       "\n",
       "    .dataframe tbody tr th {\n",
       "        vertical-align: top;\n",
       "    }\n",
       "\n",
       "    .dataframe thead th {\n",
       "        text-align: right;\n",
       "    }\n",
       "</style>\n",
       "<table border=\"1\" class=\"dataframe\">\n",
       "  <thead>\n",
       "    <tr style=\"text-align: right;\">\n",
       "      <th></th>\n",
       "      <th>id</th>\n",
       "      <th>value</th>\n",
       "    </tr>\n",
       "  </thead>\n",
       "  <tbody>\n",
       "    <tr>\n",
       "      <th>0</th>\n",
       "      <td>1</td>\n",
       "      <td>collection_development</td>\n",
       "    </tr>\n",
       "    <tr>\n",
       "      <th>1</th>\n",
       "      <td>2</td>\n",
       "      <td>library</td>\n",
       "    </tr>\n",
       "    <tr>\n",
       "      <th>2</th>\n",
       "      <td>3</td>\n",
       "      <td>collection</td>\n",
       "    </tr>\n",
       "    <tr>\n",
       "      <th>3</th>\n",
       "      <td>4</td>\n",
       "      <td>development</td>\n",
       "    </tr>\n",
       "    <tr>\n",
       "      <th>4</th>\n",
       "      <td>5</td>\n",
       "      <td>lesson_plan</td>\n",
       "    </tr>\n",
       "  </tbody>\n",
       "</table>\n",
       "</div>"
      ],
      "text/plain": [
       "   id                   value\n",
       "0   1  collection_development\n",
       "1   2                 library\n",
       "2   3              collection\n",
       "3   4             development\n",
       "4   5             lesson_plan"
      ]
     },
     "execution_count": 17,
     "metadata": {},
     "output_type": "execute_result"
    }
   ],
   "source": [
    "tags = pd.read_csv(\"dataset/tags.dat\", sep='\\t', encoding=\"ISO-8859-1\")\n",
    "tags.head()"
   ]
  },
  {
   "cell_type": "code",
   "execution_count": 24,
   "id": "1b1bf50b-3f1f-48c5-b354-222182a2b488",
   "metadata": {},
   "outputs": [
    {
     "name": "stdout",
     "output_type": "stream",
     "text": [
      "(69226, 6)\n",
      "(487131, 3)\n",
      "(53388, 2)\n"
     ]
    }
   ],
   "source": [
    "print(bookmarks.shape)\n",
    "print(bookmark_tags.shape)\n",
    "print(tags.shape)"
   ]
  },
  {
   "cell_type": "code",
   "execution_count": 33,
   "id": "91d383fe-4a52-4cc3-ad7c-74d1dc71d753",
   "metadata": {},
   "outputs": [],
   "source": [
    "dataset = bookmarks.merge(bookmark_tags, left_on='id', right_on='bookmarkID', how=\"inner\")"
   ]
  },
  {
   "cell_type": "code",
   "execution_count": 34,
   "id": "a49207ac-f58a-4071-84f7-17c951fc42dc",
   "metadata": {},
   "outputs": [
    {
     "data": {
      "text/plain": [
       "(487131, 9)"
      ]
     },
     "execution_count": 34,
     "metadata": {},
     "output_type": "execute_result"
    }
   ],
   "source": [
    "dataset.shape"
   ]
  },
  {
   "cell_type": "code",
   "execution_count": 35,
   "id": "a22aa29c-642f-4e47-b43e-3d6e43787ec8",
   "metadata": {},
   "outputs": [],
   "source": [
    "dataset = dataset.merge(tags, left_on='tagID', right_on='id', how=\"inner\")"
   ]
  },
  {
   "cell_type": "code",
   "execution_count": 36,
   "id": "962dd4e3-eb85-473f-b42b-38fcf7cca495",
   "metadata": {},
   "outputs": [
    {
     "data": {
      "text/plain": [
       "(487131, 11)"
      ]
     },
     "execution_count": 36,
     "metadata": {},
     "output_type": "execute_result"
    }
   ],
   "source": [
    "dataset.shape"
   ]
  },
  {
   "cell_type": "code",
   "execution_count": 37,
   "id": "cc862a4d-322e-4b41-ac34-0f5378aaef99",
   "metadata": {},
   "outputs": [
    {
     "data": {
      "text/html": [
       "<div>\n",
       "<style scoped>\n",
       "    .dataframe tbody tr th:only-of-type {\n",
       "        vertical-align: middle;\n",
       "    }\n",
       "\n",
       "    .dataframe tbody tr th {\n",
       "        vertical-align: top;\n",
       "    }\n",
       "\n",
       "    .dataframe thead th {\n",
       "        text-align: right;\n",
       "    }\n",
       "</style>\n",
       "<table border=\"1\" class=\"dataframe\">\n",
       "  <thead>\n",
       "    <tr style=\"text-align: right;\">\n",
       "      <th></th>\n",
       "      <th>id_x</th>\n",
       "      <th>md5</th>\n",
       "      <th>title</th>\n",
       "      <th>url</th>\n",
       "      <th>md5Principal</th>\n",
       "      <th>urlPrincipal</th>\n",
       "      <th>bookmarkID</th>\n",
       "      <th>tagID</th>\n",
       "      <th>tagWeight</th>\n",
       "      <th>id_y</th>\n",
       "      <th>value</th>\n",
       "    </tr>\n",
       "  </thead>\n",
       "  <tbody>\n",
       "    <tr>\n",
       "      <th>0</th>\n",
       "      <td>1</td>\n",
       "      <td>ab4954b633ddaf5b5bba6e9b71aa6b70</td>\n",
       "      <td>IFLA - The official website of the Internation...</td>\n",
       "      <td>http://www.ifla.org/</td>\n",
       "      <td>7f431306c428457bc4e12b15634484f</td>\n",
       "      <td>www.ifla.org</td>\n",
       "      <td>1</td>\n",
       "      <td>2</td>\n",
       "      <td>276</td>\n",
       "      <td>2</td>\n",
       "      <td>library</td>\n",
       "    </tr>\n",
       "    <tr>\n",
       "      <th>1</th>\n",
       "      <td>2</td>\n",
       "      <td>2221e9cd106d269dd34682666f576fa3</td>\n",
       "      <td>gcdp-e.pdf (application/pdf Object)</td>\n",
       "      <td>http://archive.ifla.org/VII/s14/nd1/gcdp-e.pdf</td>\n",
       "      <td>1ef8cfcfe968101fa9b4e301847503d4</td>\n",
       "      <td>archive.ifla.org</td>\n",
       "      <td>2</td>\n",
       "      <td>2</td>\n",
       "      <td>5</td>\n",
       "      <td>2</td>\n",
       "      <td>library</td>\n",
       "    </tr>\n",
       "    <tr>\n",
       "      <th>2</th>\n",
       "      <td>9</td>\n",
       "      <td>c97284629e17b8e2861afaacd59918bc</td>\n",
       "      <td>Kidsreads.com</td>\n",
       "      <td>http://www.kidsreads.com/</td>\n",
       "      <td>5854ce8404857a45373eea01a3d98000</td>\n",
       "      <td>www.kidsreads.com</td>\n",
       "      <td>9</td>\n",
       "      <td>2</td>\n",
       "      <td>158</td>\n",
       "      <td>2</td>\n",
       "      <td>library</td>\n",
       "    </tr>\n",
       "    <tr>\n",
       "      <th>3</th>\n",
       "      <td>15</td>\n",
       "      <td>4e72a2a5f48b1a6d2d1c6e8e3e8eb399</td>\n",
       "      <td>Some of the Best Books, K-12</td>\n",
       "      <td>http://www.kn.att.com/wired/fil/pages/listbest...</td>\n",
       "      <td>fcaf87c40c53c57de95abb9678ca138a</td>\n",
       "      <td>www.kn.att.com</td>\n",
       "      <td>15</td>\n",
       "      <td>2</td>\n",
       "      <td>3</td>\n",
       "      <td>2</td>\n",
       "      <td>library</td>\n",
       "    </tr>\n",
       "    <tr>\n",
       "      <th>4</th>\n",
       "      <td>16</td>\n",
       "      <td>2c344d706ad1ebdfe0545a26e483b017</td>\n",
       "      <td>Education World Â®: Lesson Plan: Lessons from ...</td>\n",
       "      <td>http://www.educationworld.com/a_lesson/lesson2...</td>\n",
       "      <td>78e74cba021bd118110d7d5347209493</td>\n",
       "      <td>www.educationworld.com</td>\n",
       "      <td>16</td>\n",
       "      <td>2</td>\n",
       "      <td>14</td>\n",
       "      <td>2</td>\n",
       "      <td>library</td>\n",
       "    </tr>\n",
       "    <tr>\n",
       "      <th>...</th>\n",
       "      <td>...</td>\n",
       "      <td>...</td>\n",
       "      <td>...</td>\n",
       "      <td>...</td>\n",
       "      <td>...</td>\n",
       "      <td>...</td>\n",
       "      <td>...</td>\n",
       "      <td>...</td>\n",
       "      <td>...</td>\n",
       "      <td>...</td>\n",
       "      <td>...</td>\n",
       "    </tr>\n",
       "    <tr>\n",
       "      <th>487126</th>\n",
       "      <td>106601</td>\n",
       "      <td>cdc972686209f500abcc9c0b06c5bbe4</td>\n",
       "      <td>Move from Development to Production on EE 2 | ...</td>\n",
       "      <td>http://expressionengine.com/wiki/Move_from_Dev...</td>\n",
       "      <td>7fb8719d9e37207b5a8f2bedc95bcb15</td>\n",
       "      <td>expressionengine.com</td>\n",
       "      <td>106601</td>\n",
       "      <td>64249</td>\n",
       "      <td>11</td>\n",
       "      <td>64249</td>\n",
       "      <td>ee2</td>\n",
       "    </tr>\n",
       "    <tr>\n",
       "      <th>487127</th>\n",
       "      <td>106607</td>\n",
       "      <td>e2e4fe0c1661286dbb66b09b94cc2829</td>\n",
       "      <td>Multiple environment configuration | Expressio...</td>\n",
       "      <td>http://expressionengine-addons.com/nsm-config-...</td>\n",
       "      <td>b45b83d29a66efab3e723c81b6ebe81b</td>\n",
       "      <td>expressionengine-addons.com</td>\n",
       "      <td>106607</td>\n",
       "      <td>64249</td>\n",
       "      <td>9</td>\n",
       "      <td>64249</td>\n",
       "      <td>ee2</td>\n",
       "    </tr>\n",
       "    <tr>\n",
       "      <th>487128</th>\n",
       "      <td>106611</td>\n",
       "      <td>af0dcdd71a4e9b53ddca3e6fefb353a2</td>\n",
       "      <td>Low Reorder ~ Low</td>\n",
       "      <td>http://loweblog.com/software/low-reorder/</td>\n",
       "      <td>226782232940304df82ec3dff973b754</td>\n",
       "      <td>loweblog.com</td>\n",
       "      <td>106611</td>\n",
       "      <td>64249</td>\n",
       "      <td>4</td>\n",
       "      <td>64249</td>\n",
       "      <td>ee2</td>\n",
       "    </tr>\n",
       "    <tr>\n",
       "      <th>487129</th>\n",
       "      <td>107078</td>\n",
       "      <td>d64ad3c0ca3284a32a2c32155ed75725</td>\n",
       "      <td>PR Newswire - news distribution, targeting and...</td>\n",
       "      <td>http://www.prnewswire.com/</td>\n",
       "      <td>f263e1121e95d256132e7548fcca8be1</td>\n",
       "      <td>www.prnewswire.com</td>\n",
       "      <td>107078</td>\n",
       "      <td>37368</td>\n",
       "      <td>240</td>\n",
       "      <td>37368</td>\n",
       "      <td>newswire</td>\n",
       "    </tr>\n",
       "    <tr>\n",
       "      <th>487130</th>\n",
       "      <td>107079</td>\n",
       "      <td>a9c2585d6c66012e2a6675f5ef63505d</td>\n",
       "      <td>Marketwire: press release distribution, newswi...</td>\n",
       "      <td>http://www.marketwire.com/</td>\n",
       "      <td>9b6563186a83d2d4fc28ae79f7ef6e02</td>\n",
       "      <td>www.marketwire.com</td>\n",
       "      <td>107079</td>\n",
       "      <td>37368</td>\n",
       "      <td>75</td>\n",
       "      <td>37368</td>\n",
       "      <td>newswire</td>\n",
       "    </tr>\n",
       "  </tbody>\n",
       "</table>\n",
       "<p>487131 rows × 11 columns</p>\n",
       "</div>"
      ],
      "text/plain": [
       "          id_x                               md5  \\\n",
       "0            1  ab4954b633ddaf5b5bba6e9b71aa6b70   \n",
       "1            2  2221e9cd106d269dd34682666f576fa3   \n",
       "2            9  c97284629e17b8e2861afaacd59918bc   \n",
       "3           15  4e72a2a5f48b1a6d2d1c6e8e3e8eb399   \n",
       "4           16  2c344d706ad1ebdfe0545a26e483b017   \n",
       "...        ...                               ...   \n",
       "487126  106601  cdc972686209f500abcc9c0b06c5bbe4   \n",
       "487127  106607  e2e4fe0c1661286dbb66b09b94cc2829   \n",
       "487128  106611  af0dcdd71a4e9b53ddca3e6fefb353a2   \n",
       "487129  107078  d64ad3c0ca3284a32a2c32155ed75725   \n",
       "487130  107079  a9c2585d6c66012e2a6675f5ef63505d   \n",
       "\n",
       "                                                    title  \\\n",
       "0       IFLA - The official website of the Internation...   \n",
       "1                     gcdp-e.pdf (application/pdf Object)   \n",
       "2                                           Kidsreads.com   \n",
       "3                            Some of the Best Books, K-12   \n",
       "4       Education World Â®: Lesson Plan: Lessons from ...   \n",
       "...                                                   ...   \n",
       "487126  Move from Development to Production on EE 2 | ...   \n",
       "487127  Multiple environment configuration | Expressio...   \n",
       "487128                                  Low Reorder ~ Low   \n",
       "487129  PR Newswire - news distribution, targeting and...   \n",
       "487130  Marketwire: press release distribution, newswi...   \n",
       "\n",
       "                                                      url  \\\n",
       "0                                    http://www.ifla.org/   \n",
       "1          http://archive.ifla.org/VII/s14/nd1/gcdp-e.pdf   \n",
       "2                               http://www.kidsreads.com/   \n",
       "3       http://www.kn.att.com/wired/fil/pages/listbest...   \n",
       "4       http://www.educationworld.com/a_lesson/lesson2...   \n",
       "...                                                   ...   \n",
       "487126  http://expressionengine.com/wiki/Move_from_Dev...   \n",
       "487127  http://expressionengine-addons.com/nsm-config-...   \n",
       "487128          http://loweblog.com/software/low-reorder/   \n",
       "487129                         http://www.prnewswire.com/   \n",
       "487130                         http://www.marketwire.com/   \n",
       "\n",
       "                            md5Principal                 urlPrincipal  \\\n",
       "0        7f431306c428457bc4e12b15634484f                 www.ifla.org   \n",
       "1       1ef8cfcfe968101fa9b4e301847503d4             archive.ifla.org   \n",
       "2       5854ce8404857a45373eea01a3d98000            www.kidsreads.com   \n",
       "3       fcaf87c40c53c57de95abb9678ca138a               www.kn.att.com   \n",
       "4       78e74cba021bd118110d7d5347209493       www.educationworld.com   \n",
       "...                                  ...                          ...   \n",
       "487126  7fb8719d9e37207b5a8f2bedc95bcb15         expressionengine.com   \n",
       "487127  b45b83d29a66efab3e723c81b6ebe81b  expressionengine-addons.com   \n",
       "487128  226782232940304df82ec3dff973b754                 loweblog.com   \n",
       "487129  f263e1121e95d256132e7548fcca8be1           www.prnewswire.com   \n",
       "487130  9b6563186a83d2d4fc28ae79f7ef6e02           www.marketwire.com   \n",
       "\n",
       "        bookmarkID  tagID  tagWeight   id_y     value  \n",
       "0                1      2        276      2   library  \n",
       "1                2      2          5      2   library  \n",
       "2                9      2        158      2   library  \n",
       "3               15      2          3      2   library  \n",
       "4               16      2         14      2   library  \n",
       "...            ...    ...        ...    ...       ...  \n",
       "487126      106601  64249         11  64249       ee2  \n",
       "487127      106607  64249          9  64249       ee2  \n",
       "487128      106611  64249          4  64249       ee2  \n",
       "487129      107078  37368        240  37368  newswire  \n",
       "487130      107079  37368         75  37368  newswire  \n",
       "\n",
       "[487131 rows x 11 columns]"
      ]
     },
     "execution_count": 37,
     "metadata": {},
     "output_type": "execute_result"
    }
   ],
   "source": [
    "dataset"
   ]
  },
  {
   "cell_type": "code",
   "execution_count": 38,
   "id": "05fb507e-1cbd-4064-afb2-366a9c2832e2",
   "metadata": {},
   "outputs": [],
   "source": [
    "from generator import TagGenerator"
   ]
  },
  {
   "cell_type": "code",
   "execution_count": 41,
   "id": "a8d87f15-6f20-451d-ab8c-cb36f9ca2514",
   "metadata": {},
   "outputs": [],
   "source": [
    "document_set = dataset[\"title\"].to_list()"
   ]
  },
  {
   "cell_type": "code",
   "execution_count": 42,
   "id": "91e29dfd-8499-4171-9dac-f6acd98ea999",
   "metadata": {},
   "outputs": [
    {
     "name": "stdout",
     "output_type": "stream",
     "text": [
      "document_abstract_tags [['institut', 'offici', 'associ', 'feder'], ['pdf', 'applic', 'object', 'gcdp'], ['kidsread'], ['book'], ['lesson', 'world', 'plan', 'educ'], ['review', 'carol', 'idea', 'site', 'kid', 'children', 'book'], ['illinoi', 'univers', 'center', 'children', 'book'], ['bookstor', 'bound', 'stay', 'book'], ['librari', 'home'], ['win', 'bookadventur', 'click']]\n",
      "expand_doc_tags\n",
      "expand_document_tags\n",
      "document_tags ['institut', 'offici', 'associ', 'feder']\n",
      "document_tags ['pdf', 'applic', 'object', 'gcdp']\n",
      "document_tags ['kidsread']\n",
      "document_tags ['book']\n",
      "document_tags ['lesson', 'world', 'plan', 'educ']\n",
      "document_tags ['review', 'carol', 'idea', 'site', 'kid', 'children', 'book']\n",
      "document_tags ['illinoi', 'univers', 'center', 'children', 'book']\n",
      "document_tags ['bookstor', 'bound', 'stay', 'book']\n",
      "document_tags ['librari', 'home']\n",
      "document_tags ['win', 'bookadventur', 'click']\n",
      "expand_document_tags [['social act', 'adjud', 'associ', 'relationship', 'organ', 'institut', 'hospit', 'offici', 'constitut', 'feder', 'skilled work'], ['constitu', 'applic', 'pdf', 'object', 'manual labor', 'effort', 'content', 'gcdp'], ['kidsread'], ['book', 'fact', 'section'], ['world', 'teach', 'upbring', 'plan', 'experi', 'admonit', 'draw', 'concern', 'executive depart', 'idea', 'educ', 'lesson'], ['juvenil', 'comput', 'idea', 'calcul', 'children', 'offspr', 'public', 'song', 'opinion', 'site', 'carol', 'book', 'variety show', 'kid', 'examin', 'descend', 'religious song', 'posit', 'dramatic composit', 'review'], ['hockey play', 'illinoi', 'book', 'children', 'record', 'establish', 'univers', 'offspr', 'dramatic composit', 'descend', 'educational institut', 'content', 'algonquian', 'center'], ['shop', 'line', 'bound', 'book', 'strip', 'brace', 'stay', 'product', 'sacred text', 'bookstor', 'extrem'], ['home', 'environ', 'build', 'librari', 'institut', 'collect'], ['victori', 'win', 'bookadventur', 'financial gain', 'sound', 'click', 'stop conson']]\n",
      "get_set_summary_tags_method_2\n",
      "get_set_summary_tags_method_2 ['book', 'institut', 'content', 'idea', 'children', 'offspr', 'descend', 'dramatic composit', 'social act', 'adjud', 'associ', 'relationship', 'organ', 'hospit', 'offici', 'constitut', 'feder', 'skilled work', 'constitu', 'applic', 'pdf', 'object', 'manual labor', 'effort', 'gcdp', 'kidsread', 'fact', 'section', 'world', 'teach', 'upbring', 'plan', 'experi', 'admonit', 'draw', 'concern', 'executive depart', 'educ', 'lesson', 'juvenil', 'comput', 'calcul', 'public', 'song', 'opinion', 'site', 'carol', 'variety show', 'kid', 'examin', 'religious song', 'posit', 'review', 'hockey play', 'illinoi', 'record', 'establish', 'univers', 'educational institut', 'algonquian', 'center', 'shop', 'line', 'bound', 'strip', 'brace', 'stay', 'product', 'sacred text', 'bookstor', 'extrem', 'home', 'environ', 'build', 'librari', 'collect', 'victori', 'win', 'bookadventur', 'financial gain', 'sound', 'click', 'stop conson']\n",
      "get_set_summary_tags_method_2 {'social act': 1, 'adjud': 1, 'associ': 1, 'relationship': 1, 'organ': 1, 'institut': 2, 'hospit': 1, 'offici': 1, 'constitut': 1, 'feder': 1, 'skilled work': 1, 'constitu': 1, 'applic': 1, 'pdf': 1, 'object': 1, 'manual labor': 1, 'effort': 1, 'content': 2, 'gcdp': 1, 'kidsread': 1, 'book': 4, 'fact': 1, 'section': 1, 'world': 1, 'teach': 1, 'upbring': 1, 'plan': 1, 'experi': 1, 'admonit': 1, 'draw': 1, 'concern': 1, 'executive depart': 1, 'idea': 2, 'educ': 1, 'lesson': 1, 'juvenil': 1, 'comput': 1, 'calcul': 1, 'children': 2, 'offspr': 2, 'public': 1, 'song': 1, 'opinion': 1, 'site': 1, 'carol': 1, 'variety show': 1, 'kid': 1, 'examin': 1, 'descend': 2, 'religious song': 1, 'posit': 1, 'dramatic composit': 2, 'review': 1, 'hockey play': 1, 'illinoi': 1, 'record': 1, 'establish': 1, 'univers': 1, 'educational institut': 1, 'algonquian': 1, 'center': 1, 'shop': 1, 'line': 1, 'bound': 1, 'strip': 1, 'brace': 1, 'stay': 1, 'product': 1, 'sacred text': 1, 'bookstor': 1, 'extrem': 1, 'home': 1, 'environ': 1, 'build': 1, 'librari': 1, 'collect': 1, 'victori': 1, 'win': 1, 'bookadventur': 1, 'financial gain': 1, 'sound': 1, 'click': 1, 'stop conson': 1}\n",
      "set_summary_tags ['book', 'institut', 'content', 'idea', 'children', 'offspr', 'descend', 'dramatic composit', 'social act', 'adjud', 'associ', 'relationship', 'organ', 'hospit', 'offici', 'constitut', 'feder', 'skilled work', 'constitu', 'applic', 'pdf', 'object', 'manual labor', 'effort', 'gcdp', 'kidsread', 'fact', 'section', 'world', 'teach', 'upbring', 'plan', 'experi', 'admonit', 'draw', 'concern', 'executive depart', 'educ', 'lesson', 'juvenil']\n"
     ]
    }
   ],
   "source": [
    "a, b, c = TagGenerator(semantic_field_size=40, stemmer = \"porter\").generate(document_set[:10], 2, expand_doc_tags=True, max_hypernyms = 2)"
   ]
  },
  {
   "cell_type": "code",
   "execution_count": null,
   "id": "45a2ea5a-538e-4386-bfd8-b25e26af68fc",
   "metadata": {},
   "outputs": [],
   "source": []
  }
 ],
 "metadata": {
  "kernelspec": {
   "display_name": "Python 3 (ipykernel)",
   "language": "python",
   "name": "python3"
  },
  "language_info": {
   "codemirror_mode": {
    "name": "ipython",
    "version": 3
   },
   "file_extension": ".py",
   "mimetype": "text/x-python",
   "name": "python",
   "nbconvert_exporter": "python",
   "pygments_lexer": "ipython3",
   "version": "3.7.13"
  }
 },
 "nbformat": 4,
 "nbformat_minor": 5
}
